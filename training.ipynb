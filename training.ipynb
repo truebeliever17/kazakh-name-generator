{
 "cells": [
  {
   "cell_type": "code",
   "execution_count": 1,
   "metadata": {
    "id": "4mxO2j5bRFWi"
   },
   "outputs": [],
   "source": [
    "import torch\n",
    "import torch.nn as nn\n",
    "import torch.optim as optim\n",
    "import numpy as np\n",
    "import pandas as pd\n",
    "import nltk\n",
    "import pickle\n",
    "from nltk.util import bigrams\n",
    "from sklearn.model_selection import train_test_split\n",
    "from tqdm.notebook import tqdm\n",
    "from model import LSTMGenerator\n",
    "from main import encode_to_one_hot"
   ]
  },
  {
   "cell_type": "code",
   "execution_count": 2,
   "metadata": {
    "id": "lK85cp62SA1-"
   },
   "outputs": [],
   "source": [
    "device = \"cuda\" if torch.cuda.is_available() else \"cpu\""
   ]
  },
  {
   "cell_type": "code",
   "execution_count": 3,
   "metadata": {
    "id": "jfIyggI_SKlp"
   },
   "outputs": [],
   "source": [
    "xlsx = pd.read_excel(\"./data/grants.xlsx\", engine='openpyxl', sheet_name=[0, 1, 2, 3, 4])\n",
    "df = pd.concat(xlsx, ignore_index=True).drop('No', axis=1).dropna()"
   ]
  },
  {
   "cell_type": "code",
   "execution_count": 4,
   "metadata": {
    "colab": {
     "base_uri": "https://localhost:8080/",
     "height": 196
    },
    "id": "hn29UrraSpga",
    "outputId": "2fbb23b6-231f-47d3-ea33-ef4633fee8d3"
   },
   "outputs": [
    {
     "data": {
      "text/html": [
       "<div>\n",
       "<style scoped>\n",
       "    .dataframe tbody tr th:only-of-type {\n",
       "        vertical-align: middle;\n",
       "    }\n",
       "\n",
       "    .dataframe tbody tr th {\n",
       "        vertical-align: top;\n",
       "    }\n",
       "\n",
       "    .dataframe thead th {\n",
       "        text-align: right;\n",
       "    }\n",
       "</style>\n",
       "<table border=\"1\" class=\"dataframe\">\n",
       "  <thead>\n",
       "    <tr style=\"text-align: right;\">\n",
       "      <th></th>\n",
       "      <th>IKT</th>\n",
       "      <th>FIO</th>\n",
       "      <th>Points</th>\n",
       "      <th>University</th>\n",
       "    </tr>\n",
       "  </thead>\n",
       "  <tbody>\n",
       "    <tr>\n",
       "      <th>0</th>\n",
       "      <td>903300067.0</td>\n",
       "      <td>РАХМЕТУЛЛА АСАНӘЛІ</td>\n",
       "      <td>140.0</td>\n",
       "      <td>302</td>\n",
       "    </tr>\n",
       "    <tr>\n",
       "      <th>1</th>\n",
       "      <td>902300822.0</td>\n",
       "      <td>Жамашев Ержан Жеңісұлы</td>\n",
       "      <td>140.0</td>\n",
       "      <td>302</td>\n",
       "    </tr>\n",
       "    <tr>\n",
       "      <th>2</th>\n",
       "      <td>903300006.0</td>\n",
       "      <td>ЗАМАНБЕК МУХАММЕД ЖЕҢІСҰЛЫ</td>\n",
       "      <td>140.0</td>\n",
       "      <td>302</td>\n",
       "    </tr>\n",
       "    <tr>\n",
       "      <th>3</th>\n",
       "      <td>903300043.0</td>\n",
       "      <td>ЖҰМАЖАНОВ МИРАС МАРАТҰЛЫ</td>\n",
       "      <td>140.0</td>\n",
       "      <td>302</td>\n",
       "    </tr>\n",
       "    <tr>\n",
       "      <th>4</th>\n",
       "      <td>903300051.0</td>\n",
       "      <td>Тлеулесов Максут Кайратович</td>\n",
       "      <td>140.0</td>\n",
       "      <td>83</td>\n",
       "    </tr>\n",
       "  </tbody>\n",
       "</table>\n",
       "</div>"
      ],
      "text/plain": [
       "           IKT                          FIO  Points  University\n",
       "0  903300067.0           РАХМЕТУЛЛА АСАНӘЛІ   140.0         302\n",
       "1  902300822.0       Жамашев Ержан Жеңісұлы   140.0         302\n",
       "2  903300006.0   ЗАМАНБЕК МУХАММЕД ЖЕҢІСҰЛЫ   140.0         302\n",
       "3  903300043.0     ЖҰМАЖАНОВ МИРАС МАРАТҰЛЫ   140.0         302\n",
       "4  903300051.0  Тлеулесов Максут Кайратович   140.0          83"
      ]
     },
     "execution_count": 4,
     "metadata": {
      "tags": []
     },
     "output_type": "execute_result"
    }
   ],
   "source": [
    "df.head()"
   ]
  },
  {
   "cell_type": "code",
   "execution_count": 5,
   "metadata": {
    "id": "mrl5ftWBSqrp"
   },
   "outputs": [],
   "source": [
    "df['FIO'] = df['FIO'].apply(lambda x: x.title())"
   ]
  },
  {
   "cell_type": "code",
   "execution_count": 6,
   "metadata": {
    "colab": {
     "base_uri": "https://localhost:8080/",
     "height": 196
    },
    "id": "DLiisNWUSxor",
    "outputId": "887e1e91-b0bc-406a-8990-aafa7feffb86"
   },
   "outputs": [
    {
     "data": {
      "text/html": [
       "<div>\n",
       "<style scoped>\n",
       "    .dataframe tbody tr th:only-of-type {\n",
       "        vertical-align: middle;\n",
       "    }\n",
       "\n",
       "    .dataframe tbody tr th {\n",
       "        vertical-align: top;\n",
       "    }\n",
       "\n",
       "    .dataframe thead th {\n",
       "        text-align: right;\n",
       "    }\n",
       "</style>\n",
       "<table border=\"1\" class=\"dataframe\">\n",
       "  <thead>\n",
       "    <tr style=\"text-align: right;\">\n",
       "      <th></th>\n",
       "      <th>IKT</th>\n",
       "      <th>FIO</th>\n",
       "      <th>Points</th>\n",
       "      <th>University</th>\n",
       "    </tr>\n",
       "  </thead>\n",
       "  <tbody>\n",
       "    <tr>\n",
       "      <th>0</th>\n",
       "      <td>903300067.0</td>\n",
       "      <td>Рахметулла Асанәлі</td>\n",
       "      <td>140.0</td>\n",
       "      <td>302</td>\n",
       "    </tr>\n",
       "    <tr>\n",
       "      <th>1</th>\n",
       "      <td>902300822.0</td>\n",
       "      <td>Жамашев Ержан Жеңісұлы</td>\n",
       "      <td>140.0</td>\n",
       "      <td>302</td>\n",
       "    </tr>\n",
       "    <tr>\n",
       "      <th>2</th>\n",
       "      <td>903300006.0</td>\n",
       "      <td>Заманбек Мухаммед Жеңісұлы</td>\n",
       "      <td>140.0</td>\n",
       "      <td>302</td>\n",
       "    </tr>\n",
       "    <tr>\n",
       "      <th>3</th>\n",
       "      <td>903300043.0</td>\n",
       "      <td>Жұмажанов Мирас Маратұлы</td>\n",
       "      <td>140.0</td>\n",
       "      <td>302</td>\n",
       "    </tr>\n",
       "    <tr>\n",
       "      <th>4</th>\n",
       "      <td>903300051.0</td>\n",
       "      <td>Тлеулесов Максут Кайратович</td>\n",
       "      <td>140.0</td>\n",
       "      <td>83</td>\n",
       "    </tr>\n",
       "  </tbody>\n",
       "</table>\n",
       "</div>"
      ],
      "text/plain": [
       "           IKT                          FIO  Points  University\n",
       "0  903300067.0           Рахметулла Асанәлі   140.0         302\n",
       "1  902300822.0       Жамашев Ержан Жеңісұлы   140.0         302\n",
       "2  903300006.0   Заманбек Мухаммед Жеңісұлы   140.0         302\n",
       "3  903300043.0     Жұмажанов Мирас Маратұлы   140.0         302\n",
       "4  903300051.0  Тлеулесов Максут Кайратович   140.0          83"
      ]
     },
     "execution_count": 6,
     "metadata": {
      "tags": []
     },
     "output_type": "execute_result"
    }
   ],
   "source": [
    "df.head()"
   ]
  },
  {
   "cell_type": "code",
   "execution_count": 7,
   "metadata": {
    "id": "ItARg4wpSrpg"
   },
   "outputs": [],
   "source": [
    "preprocess_text = lambda x: [char for char in x.strip()]"
   ]
  },
  {
   "cell_type": "code",
   "execution_count": 8,
   "metadata": {
    "id": "Gb0pqPXdStJg"
   },
   "outputs": [],
   "source": [
    "df['FIO'] = df['FIO'].apply(preprocess_text)"
   ]
  },
  {
   "cell_type": "code",
   "execution_count": 9,
   "metadata": {
    "colab": {
     "base_uri": "https://localhost:8080/",
     "height": 196
    },
    "id": "2_F7yUMlSuDg",
    "outputId": "f9e27c5a-7ba0-4b86-9b11-53c58e91b564"
   },
   "outputs": [
    {
     "data": {
      "text/html": [
       "<div>\n",
       "<style scoped>\n",
       "    .dataframe tbody tr th:only-of-type {\n",
       "        vertical-align: middle;\n",
       "    }\n",
       "\n",
       "    .dataframe tbody tr th {\n",
       "        vertical-align: top;\n",
       "    }\n",
       "\n",
       "    .dataframe thead th {\n",
       "        text-align: right;\n",
       "    }\n",
       "</style>\n",
       "<table border=\"1\" class=\"dataframe\">\n",
       "  <thead>\n",
       "    <tr style=\"text-align: right;\">\n",
       "      <th></th>\n",
       "      <th>IKT</th>\n",
       "      <th>FIO</th>\n",
       "      <th>Points</th>\n",
       "      <th>University</th>\n",
       "    </tr>\n",
       "  </thead>\n",
       "  <tbody>\n",
       "    <tr>\n",
       "      <th>0</th>\n",
       "      <td>903300067.0</td>\n",
       "      <td>[Р, а, х, м, е, т, у, л, л, а,  , А, с, а, н, ...</td>\n",
       "      <td>140.0</td>\n",
       "      <td>302</td>\n",
       "    </tr>\n",
       "    <tr>\n",
       "      <th>1</th>\n",
       "      <td>902300822.0</td>\n",
       "      <td>[Ж, а, м, а, ш, е, в,  , Е, р, ж, а, н,  , Ж, ...</td>\n",
       "      <td>140.0</td>\n",
       "      <td>302</td>\n",
       "    </tr>\n",
       "    <tr>\n",
       "      <th>2</th>\n",
       "      <td>903300006.0</td>\n",
       "      <td>[З, а, м, а, н, б, е, к,  , М, у, х, а, м, м, ...</td>\n",
       "      <td>140.0</td>\n",
       "      <td>302</td>\n",
       "    </tr>\n",
       "    <tr>\n",
       "      <th>3</th>\n",
       "      <td>903300043.0</td>\n",
       "      <td>[Ж, ұ, м, а, ж, а, н, о, в,  , М, и, р, а, с, ...</td>\n",
       "      <td>140.0</td>\n",
       "      <td>302</td>\n",
       "    </tr>\n",
       "    <tr>\n",
       "      <th>4</th>\n",
       "      <td>903300051.0</td>\n",
       "      <td>[Т, л, е, у, л, е, с, о, в,  , М, а, к, с, у, ...</td>\n",
       "      <td>140.0</td>\n",
       "      <td>83</td>\n",
       "    </tr>\n",
       "  </tbody>\n",
       "</table>\n",
       "</div>"
      ],
      "text/plain": [
       "           IKT  ... University\n",
       "0  903300067.0  ...        302\n",
       "1  902300822.0  ...        302\n",
       "2  903300006.0  ...        302\n",
       "3  903300043.0  ...        302\n",
       "4  903300051.0  ...         83\n",
       "\n",
       "[5 rows x 4 columns]"
      ]
     },
     "execution_count": 9,
     "metadata": {
      "tags": []
     },
     "output_type": "execute_result"
    }
   ],
   "source": [
    "df.head()"
   ]
  },
  {
   "cell_type": "code",
   "execution_count": 10,
   "metadata": {
    "id": "rrlazlqYSw8b"
   },
   "outputs": [],
   "source": [
    "char2idx = {'PAD': 0, 'SOS': 1, 'EOS': 2}"
   ]
  },
  {
   "cell_type": "code",
   "execution_count": 11,
   "metadata": {
    "id": "9LBGyFrpSzrL"
   },
   "outputs": [],
   "source": [
    "idx = 3\n",
    "def fill_char2idx(chars, char2idx):\n",
    "    global idx\n",
    "    for char in chars:\n",
    "        if char not in char2idx:\n",
    "            char2idx[char] = idx\n",
    "            idx += 1"
   ]
  },
  {
   "cell_type": "code",
   "execution_count": 12,
   "metadata": {
    "id": "QNFllp3aS0Wx"
   },
   "outputs": [],
   "source": [
    "df['FIO'].apply(lambda x: fill_char2idx(x, char2idx))\n",
    "None"
   ]
  },
  {
   "cell_type": "code",
   "execution_count": 13,
   "metadata": {
    "id": "6MqN3wwmS2L1"
   },
   "outputs": [],
   "source": [
    "idx2char = {v: k for k, v in char2idx.items()}"
   ]
  },
  {
   "cell_type": "code",
   "execution_count": 14,
   "metadata": {
    "id": "HWgYekfQS3Fh"
   },
   "outputs": [],
   "source": [
    "df['FIO'] = df['FIO'].apply(lambda x: [char2idx['SOS']] + [char2idx[char] for char in x] + [char2idx['EOS']])"
   ]
  },
  {
   "cell_type": "code",
   "execution_count": 15,
   "metadata": {
    "colab": {
     "base_uri": "https://localhost:8080/",
     "height": 196
    },
    "id": "LJxPyszAS31r",
    "outputId": "41b2b581-9e8c-4ef5-8673-17492637b39d"
   },
   "outputs": [
    {
     "data": {
      "text/html": [
       "<div>\n",
       "<style scoped>\n",
       "    .dataframe tbody tr th:only-of-type {\n",
       "        vertical-align: middle;\n",
       "    }\n",
       "\n",
       "    .dataframe tbody tr th {\n",
       "        vertical-align: top;\n",
       "    }\n",
       "\n",
       "    .dataframe thead th {\n",
       "        text-align: right;\n",
       "    }\n",
       "</style>\n",
       "<table border=\"1\" class=\"dataframe\">\n",
       "  <thead>\n",
       "    <tr style=\"text-align: right;\">\n",
       "      <th></th>\n",
       "      <th>IKT</th>\n",
       "      <th>FIO</th>\n",
       "      <th>Points</th>\n",
       "      <th>University</th>\n",
       "    </tr>\n",
       "  </thead>\n",
       "  <tbody>\n",
       "    <tr>\n",
       "      <th>0</th>\n",
       "      <td>903300067.0</td>\n",
       "      <td>[1, 3, 4, 5, 6, 7, 8, 9, 10, 10, 4, 11, 12, 13...</td>\n",
       "      <td>140.0</td>\n",
       "      <td>302</td>\n",
       "    </tr>\n",
       "    <tr>\n",
       "      <th>1</th>\n",
       "      <td>902300822.0</td>\n",
       "      <td>[1, 17, 4, 6, 4, 18, 7, 19, 11, 20, 21, 22, 4,...</td>\n",
       "      <td>140.0</td>\n",
       "      <td>302</td>\n",
       "    </tr>\n",
       "    <tr>\n",
       "      <th>2</th>\n",
       "      <td>903300006.0</td>\n",
       "      <td>[1, 26, 4, 6, 4, 14, 27, 7, 28, 11, 29, 9, 5, ...</td>\n",
       "      <td>140.0</td>\n",
       "      <td>302</td>\n",
       "    </tr>\n",
       "    <tr>\n",
       "      <th>3</th>\n",
       "      <td>903300043.0</td>\n",
       "      <td>[1, 17, 24, 6, 4, 22, 4, 14, 31, 19, 11, 29, 3...</td>\n",
       "      <td>140.0</td>\n",
       "      <td>302</td>\n",
       "    </tr>\n",
       "    <tr>\n",
       "      <th>4</th>\n",
       "      <td>903300051.0</td>\n",
       "      <td>[1, 33, 10, 7, 9, 10, 7, 13, 31, 19, 11, 29, 4...</td>\n",
       "      <td>140.0</td>\n",
       "      <td>83</td>\n",
       "    </tr>\n",
       "  </tbody>\n",
       "</table>\n",
       "</div>"
      ],
      "text/plain": [
       "           IKT  ... University\n",
       "0  903300067.0  ...        302\n",
       "1  902300822.0  ...        302\n",
       "2  903300006.0  ...        302\n",
       "3  903300043.0  ...        302\n",
       "4  903300051.0  ...         83\n",
       "\n",
       "[5 rows x 4 columns]"
      ]
     },
     "execution_count": 15,
     "metadata": {
      "tags": []
     },
     "output_type": "execute_result"
    }
   ],
   "source": [
    "df.head()"
   ]
  },
  {
   "cell_type": "code",
   "execution_count": 16,
   "metadata": {
    "id": "4PLzmYk3S4mP"
   },
   "outputs": [],
   "source": [
    "df = df['FIO'].values"
   ]
  },
  {
   "cell_type": "code",
   "execution_count": 17,
   "metadata": {
    "id": "rIx6qpvdS8N4"
   },
   "outputs": [],
   "source": [
    "np.random.shuffle(df)\n",
    "\n",
    "def generate_batch(df, vocab_size):\n",
    "    random_name = df[np.random.randint(0, len(df))]\n",
    "\n",
    "    name_bigrams = list(bigrams(random_name))\n",
    "\n",
    "    for (curr_char, next_char) in name_bigrams:\n",
    "        yield encode_to_one_hot(curr_char, vocab_size), torch.tensor([next_char], dtype=torch.long)"
   ]
  },
  {
   "cell_type": "code",
   "execution_count": 18,
   "metadata": {
    "id": "c-aEElZcS9Co"
   },
   "outputs": [],
   "source": [
    "vocab_size = len(char2idx)\n",
    "hidden_dim = 256\n",
    "dropout = 0.2"
   ]
  },
  {
   "cell_type": "code",
   "execution_count": 19,
   "metadata": {
    "colab": {
     "base_uri": "https://localhost:8080/"
    },
    "id": "DUvGQ7xZTQZ8",
    "outputId": "3ba6b7b5-2d9d-40e5-83b2-66510a9e19fe"
   },
   "outputs": [
    {
     "data": {
      "text/plain": [
       "LSTMGenerator(\n",
       "  (lstm): LSTM(83, 256)\n",
       "  (dropout): Dropout(p=0.2, inplace=False)\n",
       "  (fc): Linear(in_features=256, out_features=83, bias=True)\n",
       ")"
      ]
     },
     "execution_count": 19,
     "metadata": {
      "tags": []
     },
     "output_type": "execute_result"
    }
   ],
   "source": [
    "model = LSTMGenerator(vocab_size, hidden_dim, dropout)\n",
    "model.to(device)"
   ]
  },
  {
   "cell_type": "code",
   "execution_count": 20,
   "metadata": {
    "id": "fcKB3MMtTSEd"
   },
   "outputs": [],
   "source": [
    "criterion = torch.nn.CrossEntropyLoss()\n",
    "optimizer = optim.Adam(model.parameters())"
   ]
  },
  {
   "cell_type": "code",
   "execution_count": 21,
   "metadata": {
    "id": "cvNhzBciTVZK"
   },
   "outputs": [],
   "source": [
    "def train(model, batch, criterion, prev_state):\n",
    "    \n",
    "    curr_char, next_char = batch\n",
    "\n",
    "    curr_char = curr_char.to(device)\n",
    "    next_char = next_char.to(device)\n",
    "\n",
    "    prediction, prev_state = model(curr_char, prev_state)\n",
    "\n",
    "    loss = criterion(prediction, next_char)\n",
    "    \n",
    "    return loss, prev_state"
   ]
  },
  {
   "cell_type": "code",
   "execution_count": 22,
   "metadata": {
    "colab": {
     "base_uri": "https://localhost:8080/"
    },
    "id": "hHU6FvYjTWx0",
    "outputId": "dcafd0cf-fdca-46bc-f938-bfcbc96e3ff7"
   },
   "outputs": [
    {
     "name": "stdout",
     "output_type": "stream",
     "text": [
      "Epoch: 100 | Loss: 3.643\n",
      "Epoch: 200 | Loss: 3.426\n",
      "Epoch: 300 | Loss: 3.301\n",
      "Epoch: 400 | Loss: 3.007\n",
      "Epoch: 500 | Loss: 2.732\n",
      "Epoch: 600 | Loss: 2.551\n",
      "Epoch: 700 | Loss: 2.413\n",
      "Epoch: 800 | Loss: 2.259\n",
      "Epoch: 900 | Loss: 2.228\n",
      "Epoch: 1000 | Loss: 2.132\n",
      "Epoch: 1100 | Loss: 2.197\n",
      "Epoch: 1200 | Loss: 2.119\n",
      "Epoch: 1300 | Loss: 2.065\n",
      "Epoch: 1400 | Loss: 2.039\n",
      "Epoch: 1500 | Loss: 2.074\n",
      "Epoch: 1600 | Loss: 2.04\n",
      "Epoch: 1700 | Loss: 1.992\n",
      "Epoch: 1800 | Loss: 1.956\n",
      "Epoch: 1900 | Loss: 1.949\n",
      "Epoch: 2000 | Loss: 1.89\n",
      "Epoch: 2100 | Loss: 1.936\n",
      "Epoch: 2200 | Loss: 1.931\n",
      "Epoch: 2300 | Loss: 1.876\n",
      "Epoch: 2400 | Loss: 1.883\n",
      "Epoch: 2500 | Loss: 1.884\n",
      "Epoch: 2600 | Loss: 1.883\n",
      "Epoch: 2700 | Loss: 1.869\n",
      "Epoch: 2800 | Loss: 1.918\n",
      "Epoch: 2900 | Loss: 1.845\n",
      "Epoch: 3000 | Loss: 1.836\n",
      "Epoch: 3100 | Loss: 1.765\n",
      "Epoch: 3200 | Loss: 1.787\n",
      "Epoch: 3300 | Loss: 1.813\n",
      "Epoch: 3400 | Loss: 1.762\n",
      "Epoch: 3500 | Loss: 1.765\n",
      "Epoch: 3600 | Loss: 1.784\n",
      "Epoch: 3700 | Loss: 1.786\n",
      "Epoch: 3800 | Loss: 1.748\n",
      "Epoch: 3900 | Loss: 1.746\n",
      "Epoch: 4000 | Loss: 1.731\n",
      "Epoch: 4100 | Loss: 1.709\n",
      "Epoch: 4200 | Loss: 1.704\n",
      "Epoch: 4300 | Loss: 1.712\n",
      "Epoch: 4400 | Loss: 1.696\n",
      "Epoch: 4500 | Loss: 1.661\n",
      "Epoch: 4600 | Loss: 1.685\n",
      "Epoch: 4700 | Loss: 1.716\n",
      "Epoch: 4800 | Loss: 1.586\n",
      "Epoch: 4900 | Loss: 1.66\n",
      "Epoch: 5000 | Loss: 1.673\n",
      "Epoch: 5100 | Loss: 1.642\n",
      "Epoch: 5200 | Loss: 1.594\n",
      "Epoch: 5300 | Loss: 1.638\n",
      "Epoch: 5400 | Loss: 1.583\n",
      "Epoch: 5500 | Loss: 1.646\n",
      "Epoch: 5600 | Loss: 1.619\n",
      "Epoch: 5700 | Loss: 1.569\n",
      "Epoch: 5800 | Loss: 1.574\n",
      "Epoch: 5900 | Loss: 1.597\n",
      "Epoch: 6000 | Loss: 1.546\n",
      "Epoch: 6100 | Loss: 1.569\n",
      "Epoch: 6200 | Loss: 1.592\n",
      "Epoch: 6300 | Loss: 1.583\n",
      "Epoch: 6400 | Loss: 1.539\n",
      "Epoch: 6500 | Loss: 1.53\n",
      "Epoch: 6600 | Loss: 1.526\n",
      "Epoch: 6700 | Loss: 1.542\n",
      "Epoch: 6800 | Loss: 1.563\n",
      "Epoch: 6900 | Loss: 1.532\n",
      "Epoch: 7000 | Loss: 1.489\n",
      "Epoch: 7100 | Loss: 1.564\n",
      "Epoch: 7200 | Loss: 1.508\n",
      "Epoch: 7300 | Loss: 1.454\n",
      "Epoch: 7400 | Loss: 1.456\n",
      "Epoch: 7500 | Loss: 1.527\n",
      "Epoch: 7600 | Loss: 1.551\n",
      "Epoch: 7700 | Loss: 1.523\n",
      "Epoch: 7800 | Loss: 1.472\n",
      "Epoch: 7900 | Loss: 1.493\n",
      "Epoch: 8000 | Loss: 1.471\n",
      "Epoch: 8100 | Loss: 1.461\n",
      "Epoch: 8200 | Loss: 1.504\n",
      "Epoch: 8300 | Loss: 1.447\n",
      "Epoch: 8400 | Loss: 1.466\n",
      "Epoch: 8500 | Loss: 1.491\n",
      "Epoch: 8600 | Loss: 1.491\n",
      "Epoch: 8700 | Loss: 1.39\n",
      "Epoch: 8800 | Loss: 1.444\n",
      "Epoch: 8900 | Loss: 1.498\n",
      "Epoch: 9000 | Loss: 1.457\n",
      "Epoch: 9100 | Loss: 1.458\n",
      "Epoch: 9200 | Loss: 1.473\n",
      "Epoch: 9300 | Loss: 1.424\n",
      "Epoch: 9400 | Loss: 1.413\n",
      "Epoch: 9500 | Loss: 1.539\n",
      "Epoch: 9600 | Loss: 1.458\n",
      "Epoch: 9700 | Loss: 1.396\n",
      "Epoch: 9800 | Loss: 1.447\n",
      "Epoch: 9900 | Loss: 1.432\n",
      "Epoch: 10000 | Loss: 1.403\n",
      "Epoch: 10100 | Loss: 1.39\n",
      "Epoch: 10200 | Loss: 1.414\n",
      "Epoch: 10300 | Loss: 1.386\n",
      "Epoch: 10400 | Loss: 1.397\n",
      "Epoch: 10500 | Loss: 1.433\n",
      "Epoch: 10600 | Loss: 1.334\n",
      "Epoch: 10700 | Loss: 1.421\n",
      "Epoch: 10800 | Loss: 1.375\n",
      "Epoch: 10900 | Loss: 1.364\n",
      "Epoch: 11000 | Loss: 1.44\n",
      "Epoch: 11100 | Loss: 1.355\n",
      "Epoch: 11200 | Loss: 1.455\n",
      "Epoch: 11300 | Loss: 1.376\n",
      "Epoch: 11400 | Loss: 1.339\n",
      "Epoch: 11500 | Loss: 1.376\n",
      "Epoch: 11600 | Loss: 1.346\n",
      "Epoch: 11700 | Loss: 1.344\n",
      "Epoch: 11800 | Loss: 1.356\n",
      "Epoch: 11900 | Loss: 1.383\n",
      "Epoch: 12000 | Loss: 1.324\n",
      "Epoch: 12100 | Loss: 1.365\n",
      "Epoch: 12200 | Loss: 1.358\n",
      "Epoch: 12300 | Loss: 1.342\n",
      "Epoch: 12400 | Loss: 1.363\n",
      "Epoch: 12500 | Loss: 1.352\n",
      "Epoch: 12600 | Loss: 1.281\n",
      "Epoch: 12700 | Loss: 1.348\n",
      "Epoch: 12800 | Loss: 1.346\n",
      "Epoch: 12900 | Loss: 1.355\n",
      "Epoch: 13000 | Loss: 1.344\n",
      "Epoch: 13100 | Loss: 1.366\n",
      "Epoch: 13200 | Loss: 1.326\n",
      "Epoch: 13300 | Loss: 1.342\n",
      "Epoch: 13400 | Loss: 1.319\n",
      "Epoch: 13500 | Loss: 1.333\n",
      "Epoch: 13600 | Loss: 1.383\n",
      "Epoch: 13700 | Loss: 1.292\n",
      "Epoch: 13800 | Loss: 1.324\n",
      "Epoch: 13900 | Loss: 1.378\n",
      "Epoch: 14000 | Loss: 1.293\n",
      "Epoch: 14100 | Loss: 1.324\n",
      "Epoch: 14200 | Loss: 1.319\n",
      "Epoch: 14300 | Loss: 1.305\n",
      "Epoch: 14400 | Loss: 1.286\n",
      "Epoch: 14500 | Loss: 1.353\n",
      "Epoch: 14600 | Loss: 1.336\n",
      "Epoch: 14700 | Loss: 1.279\n",
      "Epoch: 14800 | Loss: 1.322\n",
      "Epoch: 14900 | Loss: 1.25\n",
      "Epoch: 15000 | Loss: 1.319\n"
     ]
    }
   ],
   "source": [
    "num_epochs = 15000\n",
    "losses = []\n",
    "l = 0.0\n",
    "\n",
    "for epoch in range(1, num_epochs + 1):\n",
    "    optimizer.zero_grad()\n",
    "    train_loss = 0.0\n",
    "    prev_state = model.init_state(device)\n",
    "    loader = list(generate_batch(df, vocab_size))\n",
    "\n",
    "    model.train()\n",
    "    for batch in loader:\n",
    "        batch_loss, prev_state = train(model, batch, criterion, prev_state)\n",
    "        train_loss += batch_loss\n",
    "\n",
    "    train_loss.backward()\n",
    "    optimizer.step()\n",
    "\n",
    "    l += train_loss.item() / len(loader)\n",
    "\n",
    "    if epoch % 100 == 0:\n",
    "        losses.append(l / 100)\n",
    "        print(f'Epoch: {epoch} | Loss: {(l / 100.0):.4}')\n",
    "        l = 0.0"
   ]
  },
  {
   "cell_type": "code",
   "execution_count": 23,
   "metadata": {
    "colab": {
     "base_uri": "https://localhost:8080/",
     "height": 281
    },
    "id": "1ii6SrV7UAUh",
    "outputId": "62ec7fc4-58c2-4f5d-f4d4-c66a541b2299"
   },
   "outputs": [
    {
     "data": {
      "text/plain": [
       "[<matplotlib.lines.Line2D at 0x7f27376841d0>]"
      ]
     },
     "execution_count": 23,
     "metadata": {
      "tags": []
     },
     "output_type": "execute_result"
    },
    {
     "data": {
      "image/png": "[encoded data removed]",
      "text/plain": [
       "<Figure size 432x288 with 1 Axes>"
      ]
     },
     "metadata": {
      "needs_background": "light",
      "tags": []
     },
     "output_type": "display_data"
    }
   ],
   "source": [
    "import matplotlib.pyplot as plt\n",
    "import matplotlib.ticker as ticker\n",
    "\n",
    "plt.figure()\n",
    "plt.plot(losses)"
   ]
  },
  {
   "cell_type": "code",
   "execution_count": 24,
   "metadata": {
    "id": "ZGCbcONTVRqF"
   },
   "outputs": [],
   "source": [
    "torch.save(model.state_dict(), 'model.pt')"
   ]
  },
  {
   "cell_type": "code",
   "execution_count": 25,
   "metadata": {
    "id": "djDe1g80VYE6"
   },
   "outputs": [],
   "source": [
    "with open('char2idx.pkl', 'wb') as f:\n",
    "    pickle.dump(char2idx, f, pickle.HIGHEST_PROTOCOL)"
   ]
  },
  {
   "cell_type": "code",
   "execution_count": 25,
   "metadata": {
    "id": "BkhH2D8ZUGe_"
   },
   "outputs": [],
   "source": []
  }
 ],
 "metadata": {
  "accelerator": "GPU",
  "colab": {
   "name": "training.ipynb",
   "provenance": []
  },
  "kernelspec": {
   "display_name": "Python 3",
   "language": "python",
   "name": "python3"
  },
  "language_info": {
   "codemirror_mode": {
    "name": "ipython",
    "version": 3
   },
   "file_extension": ".py",
   "mimetype": "text/x-python",
   "name": "python",
   "nbconvert_exporter": "python",
   "pygments_lexer": "ipython3",
   "version": "3.9.0"
  }
 },
 "nbformat": 4,
 "nbformat_minor": 1
}
